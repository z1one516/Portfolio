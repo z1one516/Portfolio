{
  "cells": [
    {
      "cell_type": "code",
      "execution_count": 6,
      "metadata": {},
      "outputs": [],
      "source": [
        "# import library\n",
        "from bs4 import BeautifulSoup\n",
        "import requests\n",
        "from collections import deque\n",
        "import time\n",
        "import numpy as np\n",
        "import json\n",
        "import os"
      ]
    },
    {
      "cell_type": "markdown",
      "metadata": {},
      "source": [
        "Collect and save STEAM STORE data in json format with the duration of multiple years\n",
        "Specify the path to load appid"
      ]
    },
    {
      "cell_type": "code",
      "execution_count": 4,
      "metadata": {},
      "outputs": [],
      "source": [
        "# variable Z from \n",
        "Z = [\"required_age\",\"is_free\",\"controller_support\",\"dlc\",\"metacritic\",\"platforms\",\"recommendations\",\"achievements\",\"release_date\"]\n",
        "\n",
        "def please(id,idx,res):\n",
        "    g_info = {}\n",
        "    try:\n",
        "        data = res.json()\n",
        "        if data[str(id)][\"success\"] == True: # success == true\n",
        "            keys = data[str(id)][\"data\"].keys()\n",
        "            main = data[str(id)][\"data\"]\n",
        "            \n",
        "            for elem in Z:\n",
        "                if elem in keys:\n",
        "                    if elem in [\"recommendations\",\"achievements\"]:\n",
        "                        g_info[elem] = main[elem][\"total\"]\n",
        "                    elif elem == \"release_date\":\n",
        "                        g_info[elem] = main[elem][\"date\"]\n",
        "                    elif elem == \"metacritic\":\n",
        "                        g_info[elem] = main[elem][\"score\"]\n",
        "                    elif elem == \"dlc\":\n",
        "                        g_info[elem] = len(main[elem])\n",
        "                    else:\n",
        "                        g_info[elem] = main[elem]\n",
        "                else:\n",
        "                    g_info[elem] = np.nan\n",
        "            print(idx,id,g_info)\n",
        "        else: # success == false\n",
        "            for elem in Z:\n",
        "                g_info[elem] = np.nan\n",
        "            print(\"error\",idx,id,g_info)\n",
        "                \n",
        "    except: # when empty page is loaded - \n",
        "        for elem in Z:\n",
        "            g_info[elem] = np.nan\n",
        "        print(\"error\",idx,id,g_info)\n",
        "            \n",
        "    finally:\n",
        "        final_data[str(id)] = g_info"
      ]
    },
    {
      "cell_type": "code",
      "execution_count": null,
      "metadata": {},
      "outputs": [],
      "source": [
        "for year in [2019,2018]:\n",
        "    cwd = os.getcwd()\n",
        "    parent_directory = os.path.join(cwd, os.pardir)\n",
        "\n",
        "    # relative_path\n",
        "    relative_path = f'CRAWLING DATA\\\\appid\\\\appid_{year}.txt'\n",
        "\n",
        "    # absolute_apath\n",
        "    absolute_path = os.path.join(parent_directory, relative_path)\n",
        "    file = open(absolute_path,\"r\")\n",
        "    final_data = {}\n",
        "\n",
        "    appids = []\n",
        "    while True:\n",
        "        line = file.readline()\n",
        "        if not line: break\n",
        "        appids.append(int(line.strip()))\n",
        "    \n",
        "    for idx,id in enumerate(appids):\n",
        "        path = f\"https://store.steampowered.com/api/appdetails?appids={id}\"\n",
        "\n",
        "        res = requests.get(path)\n",
        "        if res.status_code == 200:\n",
        "            please(id,idx,res)\n",
        "        else:\n",
        "            time.sleep(60)\n",
        "            please(id,idx,res)\n",
        "        time.sleep(1.5)\n",
        "    # print(final_data)\n",
        "\n",
        "    save_path = f\"steam_store_data_{year}.json\"\n",
        "    with open(save_path,'w') as f:\n",
        "        json.dump(final_data, f, ensure_ascii=False, indent=4)"
      ]
    }
  ],
  "metadata": {
    "anaconda-cloud": {},
    "kernelspec": {
      "display_name": "Python 3",
      "language": "python",
      "name": "python3"
    },
    "language_info": {
      "codemirror_mode": {
        "name": "ipython",
        "version": 3
      },
      "file_extension": ".py",
      "mimetype": "text/x-python",
      "name": "python",
      "nbconvert_exporter": "python",
      "pygments_lexer": "ipython3",
      "version": "3.12.0"
    }
  },
  "nbformat": 4,
  "nbformat_minor": 4
}
