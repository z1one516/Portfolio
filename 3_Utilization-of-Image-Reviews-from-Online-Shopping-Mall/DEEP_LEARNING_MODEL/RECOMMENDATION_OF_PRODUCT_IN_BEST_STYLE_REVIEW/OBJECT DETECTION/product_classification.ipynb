{
 "cells": [
  {
   "cell_type": "markdown",
   "metadata": {},
   "source": [
    "### Grouping subcategories of clothes into 5 categories : T-shirt, outer, pants, skits, dress"
   ]
  },
  {
   "cell_type": "code",
   "execution_count": 3,
   "metadata": {},
   "outputs": [],
   "source": [
    "import pandas as pd"
   ]
  },
  {
   "cell_type": "code",
   "execution_count": 45,
   "metadata": {},
   "outputs": [
    {
     "data": {
      "text/html": [
       "<div>\n",
       "<style scoped>\n",
       "    .dataframe tbody tr th:only-of-type {\n",
       "        vertical-align: middle;\n",
       "    }\n",
       "\n",
       "    .dataframe tbody tr th {\n",
       "        vertical-align: top;\n",
       "    }\n",
       "\n",
       "    .dataframe thead th {\n",
       "        text-align: right;\n",
       "    }\n",
       "</style>\n",
       "<table border=\"1\" class=\"dataframe\">\n",
       "  <thead>\n",
       "    <tr style=\"text-align: right;\">\n",
       "      <th></th>\n",
       "      <th>Subcategory</th>\n",
       "      <th>Item_code</th>\n",
       "      <th>Category</th>\n",
       "    </tr>\n",
       "  </thead>\n",
       "  <tbody>\n",
       "    <tr>\n",
       "      <th>0</th>\n",
       "      <td>반소매 티셔츠</td>\n",
       "      <td>996177</td>\n",
       "      <td></td>\n",
       "    </tr>\n",
       "    <tr>\n",
       "      <th>1</th>\n",
       "      <td>반소매 티셔츠</td>\n",
       "      <td>1382658</td>\n",
       "      <td></td>\n",
       "    </tr>\n",
       "    <tr>\n",
       "      <th>2</th>\n",
       "      <td>반소매 티셔츠</td>\n",
       "      <td>996178</td>\n",
       "      <td></td>\n",
       "    </tr>\n",
       "    <tr>\n",
       "      <th>3</th>\n",
       "      <td>반소매 티셔츠</td>\n",
       "      <td>1848166</td>\n",
       "      <td></td>\n",
       "    </tr>\n",
       "    <tr>\n",
       "      <th>4</th>\n",
       "      <td>반소매 티셔츠</td>\n",
       "      <td>2086653</td>\n",
       "      <td></td>\n",
       "    </tr>\n",
       "  </tbody>\n",
       "</table>\n",
       "</div>"
      ],
      "text/plain": [
       "  Subcategory  Item_code Category\n",
       "0     반소매 티셔츠     996177         \n",
       "1     반소매 티셔츠    1382658         \n",
       "2     반소매 티셔츠     996178         \n",
       "3     반소매 티셔츠    1848166         \n",
       "4     반소매 티셔츠    2086653         "
      ]
     },
     "execution_count": 45,
     "metadata": {},
     "output_type": "execute_result"
    }
   ],
   "source": [
    "clothes = pd.read_excel(r\"C:\\Users\\NT550009\\Desktop\\MUSINSA\\data\\ProductNum.xlsx\")\n",
    "clothes = clothes.rename(columns={\"Category\":\"Subcategory\"})\n",
    "clothes[\"Category\"] = \"\"\n",
    "print(clothes.head())\n",
    "\n",
    "# Category \n",
    "def set_category(row):\n",
    "    if row['Subcategory'] in [\"반소매 티셔츠\",\"셔츠/블라우스\",\"피케/카라 티셔츠\",\n",
    "                          \"니트/스웨터\",\"맨투맨/스웨트셔츠\",\"긴소매 티셔츠\",\"후드 티셔츠\"]:\n",
    "        return 'T-shirt'\n",
    "    elif row['Subcategory'] in [\"나일론/코치 재킷\",\"트레이닝 재킷\",\"트러커 재킷\",\"아노락 재킷\",\"사파리/헌팅 재킷\",\"스타디움 재킷\",\"블루종/MA-1\",\"슈트/블레이저 재킷\",\"카디건\",\"레더/라이더스 재킷\",\"후드 집업\",\"숏패딩/숏헤비 아우터\",\"환절기 코트\",\"플리스/뽀글이\",\"롱패딩/롱헤비 아우터\",\"베스트\",\"겨울 싱글 코트\",\"겨울 기타 코트\",\"겨울 더블 코트\",\"무스탕/퍼\",\n",
    "\"패딩 베스트\"]:\n",
    "        return 'outer'\n",
    "    elif row['Subcategory'] in [\"트레이닝/조거 팬츠\",\"코튼 팬츠\",\"슈트 팬츠/슬랙스\",\"데님 팬츠\",\"숏 팬츠\",\"스포츠 하의\"]:\n",
    "        return 'pants'\n",
    "    elif row['Subcategory'] in [\"미니스커트\",\"미디스커트\",\"롱스커트\"]:\n",
    "        return 'skirts'\n",
    "    elif row['Subcategory'] in [\"맥시원피스\",\"미디원피스\",\"미니원피스\"]:\n",
    "        return 'dress'\n",
    "    \n",
    "# use apply function to set Category \n",
    "clothes['Category'] = clothes.apply(set_category, axis=1)"
   ]
  },
  {
   "cell_type": "code",
   "execution_count": 48,
   "metadata": {},
   "outputs": [
    {
     "name": "stdout",
     "output_type": "stream",
     "text": [
      "No null values found in the 'Category' column.\n"
     ]
    }
   ],
   "source": [
    "# check null in \"Category\" column \n",
    "has_null = clothes['Category'].isnull().any()\n",
    "\n",
    "# print result\n",
    "if has_null:\n",
    "    print(\"Null values exist in the 'Category' column.\")\n",
    "else:\n",
    "    print(\"No null values found in the 'Category' column.\")"
   ]
  },
  {
   "cell_type": "code",
   "execution_count": 50,
   "metadata": {},
   "outputs": [
    {
     "data": {
      "text/plain": [
       "array(['T-shirt', 'outer', 'pants', 'skirts', 'dress'], dtype=object)"
      ]
     },
     "execution_count": 50,
     "metadata": {},
     "output_type": "execute_result"
    }
   ],
   "source": [
    "# 컬럼 순서 변경 reindex\n",
    "clothes = clothes.reindex(columns=['Category', 'Subcategory', 'Item_code'])\n",
    "clothes[\"Category\"].unique()"
   ]
  },
  {
   "cell_type": "code",
   "execution_count": 51,
   "metadata": {},
   "outputs": [
    {
     "data": {
      "text/html": [
       "<div>\n",
       "<style scoped>\n",
       "    .dataframe tbody tr th:only-of-type {\n",
       "        vertical-align: middle;\n",
       "    }\n",
       "\n",
       "    .dataframe tbody tr th {\n",
       "        vertical-align: top;\n",
       "    }\n",
       "\n",
       "    .dataframe thead th {\n",
       "        text-align: right;\n",
       "    }\n",
       "</style>\n",
       "<table border=\"1\" class=\"dataframe\">\n",
       "  <thead>\n",
       "    <tr style=\"text-align: right;\">\n",
       "      <th></th>\n",
       "      <th>Category</th>\n",
       "      <th>Subcategory</th>\n",
       "      <th>Item_code</th>\n",
       "    </tr>\n",
       "  </thead>\n",
       "  <tbody>\n",
       "    <tr>\n",
       "      <th>0</th>\n",
       "      <td>T-shirt</td>\n",
       "      <td>반소매 티셔츠</td>\n",
       "      <td>996177</td>\n",
       "    </tr>\n",
       "    <tr>\n",
       "      <th>1</th>\n",
       "      <td>T-shirt</td>\n",
       "      <td>반소매 티셔츠</td>\n",
       "      <td>1382658</td>\n",
       "    </tr>\n",
       "    <tr>\n",
       "      <th>2</th>\n",
       "      <td>T-shirt</td>\n",
       "      <td>반소매 티셔츠</td>\n",
       "      <td>996178</td>\n",
       "    </tr>\n",
       "    <tr>\n",
       "      <th>3</th>\n",
       "      <td>T-shirt</td>\n",
       "      <td>반소매 티셔츠</td>\n",
       "      <td>1848166</td>\n",
       "    </tr>\n",
       "    <tr>\n",
       "      <th>4</th>\n",
       "      <td>T-shirt</td>\n",
       "      <td>반소매 티셔츠</td>\n",
       "      <td>2086653</td>\n",
       "    </tr>\n",
       "    <tr>\n",
       "      <th>...</th>\n",
       "      <td>...</td>\n",
       "      <td>...</td>\n",
       "      <td>...</td>\n",
       "    </tr>\n",
       "    <tr>\n",
       "      <th>17995</th>\n",
       "      <td>dress</td>\n",
       "      <td>미니원피스</td>\n",
       "      <td>1167612</td>\n",
       "    </tr>\n",
       "    <tr>\n",
       "      <th>17996</th>\n",
       "      <td>dress</td>\n",
       "      <td>미니원피스</td>\n",
       "      <td>1154830</td>\n",
       "    </tr>\n",
       "    <tr>\n",
       "      <th>17997</th>\n",
       "      <td>dress</td>\n",
       "      <td>미니원피스</td>\n",
       "      <td>1135804</td>\n",
       "    </tr>\n",
       "    <tr>\n",
       "      <th>17998</th>\n",
       "      <td>dress</td>\n",
       "      <td>미니원피스</td>\n",
       "      <td>865557</td>\n",
       "    </tr>\n",
       "    <tr>\n",
       "      <th>17999</th>\n",
       "      <td>dress</td>\n",
       "      <td>미니원피스</td>\n",
       "      <td>797165</td>\n",
       "    </tr>\n",
       "  </tbody>\n",
       "</table>\n",
       "<p>18000 rows × 3 columns</p>\n",
       "</div>"
      ],
      "text/plain": [
       "      Category Subcategory  Item_code\n",
       "0      T-shirt     반소매 티셔츠     996177\n",
       "1      T-shirt     반소매 티셔츠    1382658\n",
       "2      T-shirt     반소매 티셔츠     996178\n",
       "3      T-shirt     반소매 티셔츠    1848166\n",
       "4      T-shirt     반소매 티셔츠    2086653\n",
       "...        ...         ...        ...\n",
       "17995    dress       미니원피스    1167612\n",
       "17996    dress       미니원피스    1154830\n",
       "17997    dress       미니원피스    1135804\n",
       "17998    dress       미니원피스     865557\n",
       "17999    dress       미니원피스     797165\n",
       "\n",
       "[18000 rows x 3 columns]"
      ]
     },
     "execution_count": 51,
     "metadata": {},
     "output_type": "execute_result"
    }
   ],
   "source": [
    "clothes\n",
    "clothes.to_csv(r\"C:\\Users\\NT550009\\Desktop\\MUSINSA\\data\\category.csv\")"
   ]
  }
 ],
 "metadata": {
  "kernelspec": {
   "display_name": "base",
   "language": "python",
   "name": "python3"
  },
  "language_info": {
   "codemirror_mode": {
    "name": "ipython",
    "version": 3
   },
   "file_extension": ".py",
   "mimetype": "text/x-python",
   "name": "python",
   "nbconvert_exporter": "python",
   "pygments_lexer": "ipython3",
   "version": "3.10.11"
  },
  "orig_nbformat": 4
 },
 "nbformat": 4,
 "nbformat_minor": 2
}
