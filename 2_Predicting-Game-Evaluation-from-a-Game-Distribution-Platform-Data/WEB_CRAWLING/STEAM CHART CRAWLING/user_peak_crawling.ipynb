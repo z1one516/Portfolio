{
 "cells": [
  {
   "cell_type": "code",
   "execution_count": 8,
   "metadata": {},
   "outputs": [],
   "source": [
    "import urllib\n",
    "import json\n",
    "from bs4 import BeautifulSoup\n",
    "import requests\n",
    "import pandas as pd\n",
    "import os"
   ]
  },
  {
   "cell_type": "markdown",
   "metadata": {},
   "source": [
    "# import app id crawled from STEAM DB"
   ]
  },
  {
   "cell_type": "code",
   "execution_count": 5,
   "metadata": {},
   "outputs": [
    {
     "name": "stdout",
     "output_type": "stream",
     "text": [
      "How many times? :  0\n",
      "How many times? :  100\n",
      "How many times? :  200\n"
     ]
    }
   ],
   "source": [
    "cwd = os.getcwd()\n",
    "parent_directory = os.path.abspath(os.path.join(cwd, os.pardir))\n",
    "\n",
    "# relative_path\n",
    "relative_path = 'CRAWLING DATA\\\\appid\\\\appid_2022.txt'\n",
    "\n",
    "# absolute_apath\n",
    "absolute_path = os.path.join(parent_directory, relative_path)\n",
    "\n",
    "f = open(absolute_path)\n",
    "app_id=[]\n",
    "User=[]\n",
    "while True:\n",
    "    line=f.readline()\n",
    "    if not line : break\n",
    "    app_id.append(line.strip())\n",
    "\n",
    "for i in range(len(app_id)):\n",
    "    url=\"https://steamcharts.com/app/\"+str(app_id[i])\n",
    "    response=requests.get(url)\n",
    "    soup=BeautifulSoup(response.text,\"html.parser\")\n",
    "    peak_24=\"Invalid\"\n",
    "    peak_all=\"Invalid\"\n",
    "    if len(soup.select(\"#app-heading > div:nth-child(3)> span\"))!=0:\n",
    "        peak_24=soup.select(\"#app-heading > div:nth-child(3)> span\")[0].text\n",
    "    if len(soup.select(\"#app-heading > div:nth-child(4)> span\"))!=0:\n",
    "        peak_all=soup.select(\"#app-heading > div:nth-child(4)> span\")[0].text\n",
    "    User.append([app_id[i],peak_24,peak_all])\n",
    "    if i % 100==0:\n",
    "        print(\"How many times? : \",i)\n",
    "    # print(\"24-Hour Peak : \",peak_24,\" / All-time_peak :\",peak_all)"
   ]
  },
  {
   "cell_type": "code",
   "execution_count": 6,
   "metadata": {},
   "outputs": [],
   "source": [
    "df=pd.DataFrame(User)\n",
    "df.columns=[\"App_id\",\"24_Hour_Peak\",\"All_time_peak\"]\n",
    "df.to_csv(\"2022_user.csv\",sep=';')"
   ]
  }
 ],
 "metadata": {
  "kernelspec": {
   "display_name": "Python 3",
   "language": "python",
   "name": "python3"
  },
  "language_info": {
   "codemirror_mode": {
    "name": "ipython",
    "version": 3
   },
   "file_extension": ".py",
   "mimetype": "text/x-python",
   "name": "python",
   "nbconvert_exporter": "python",
   "pygments_lexer": "ipython3",
   "version": "3.12.0"
  },
  "orig_nbformat": 4
 },
 "nbformat": 4,
 "nbformat_minor": 2
}
