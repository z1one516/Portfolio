{
 "cells": [
  {
   "cell_type": "markdown",
   "metadata": {},
   "source": [
    "import libraries"
   ]
  },
  {
   "cell_type": "code",
   "execution_count": 1,
   "metadata": {},
   "outputs": [],
   "source": [
    "# import library\n",
    "from bs4 import BeautifulSoup\n",
    "import requests\n",
    "import os\n",
    "import pandas as pd"
   ]
  },
  {
   "cell_type": "markdown",
   "metadata": {},
   "source": [
    "Use the APP ID to read the file where the APP ID is stored in order to crawl within Steam.\n",
    "by reading it as a relative path, it can be read regardless of where the existing git repo is cloned.\n",
    "Save each line of the text file as a list of app_ids"
   ]
  },
  {
   "cell_type": "code",
   "execution_count": 5,
   "metadata": {},
   "outputs": [
    {
     "name": "stdout",
     "output_type": "stream",
     "text": [
      "Count data :  250\n",
      "Count :  0\n",
      "Count :  100\n",
      "Count :  200\n"
     ]
    }
   ],
   "source": [
    "cwd = os.getcwd()\n",
    "print(cwd)\n",
    "parent_directory = os.path.join(cwd, os.pardir)\n",
    "\n",
    "# relative_path\n",
    "relative_path = 'CRAWLING DATA\\\\appid\\\\appid_2022.txt'\n",
    "\n",
    "# absolute_apath\n",
    "absolute_path = os.path.join(parent_directory, relative_path)\n",
    "\n",
    "\n",
    "f = open(absolute_path)\n",
    "\n",
    "### move from current directory to parent directory\n",
    "### then read relative path to bring file\n",
    "for i in range(4):\n",
    "    os.chdir(\"../\")\n",
    "\n",
    "app_id=[]\n",
    "while True:\n",
    "    line=f.readline()\n",
    "    if not line : break\n",
    "    app_id.append(line.strip())\n",
    "reviews=[]\n",
    "print(\"Count data : \",len(app_id))\n",
    "\n",
    "# accesses the Steam page using the APP ID and retrieves the review rating and APP Tag value from there\n",
    "for i in range(4):\n",
    "    os.chdir(\"../\")\n",
    "    \n",
    "for i in range (len(app_id)):\n",
    "    individual_tag=[]\n",
    "    path=\"https://store.steampowered.com/app/\"+app_id[i]\n",
    "    response = requests.get(path)\n",
    "    soup=BeautifulSoup(response.text,\"html.parser\")\n",
    "    review=\"None\"\n",
    "    if soup.find(\"span\",\"game_review_summary\")!=None:\n",
    "        review=soup.find(\"span\",\"game_review_summary\").text\n",
    "    if soup.find_all(\"a\",\"app_tag\")!=None:\n",
    "        tag=soup.find_all(\"a\",\"app_tag\")\n",
    "        for j in range(len(tag)):\n",
    "            a=tag[j].text.strip()\n",
    "            individual_tag.append(a)\n",
    "    reviews.append([app_id[i],review,individual_tag])\n",
    "    if i%100==0:\n",
    "        print(\"Count : \" , i)\n",
    "    df=pd.DataFrame(reviews)"
   ]
  },
  {
   "cell_type": "code",
   "execution_count": 10,
   "metadata": {},
   "outputs": [
    {
     "data": {
      "text/html": [
       "<div>\n",
       "<style scoped>\n",
       "    .dataframe tbody tr th:only-of-type {\n",
       "        vertical-align: middle;\n",
       "    }\n",
       "\n",
       "    .dataframe tbody tr th {\n",
       "        vertical-align: top;\n",
       "    }\n",
       "\n",
       "    .dataframe thead th {\n",
       "        text-align: right;\n",
       "    }\n",
       "</style>\n",
       "<table border=\"1\" class=\"dataframe\">\n",
       "  <thead>\n",
       "    <tr style=\"text-align: right;\">\n",
       "      <th></th>\n",
       "      <th>App_id</th>\n",
       "      <th>Review</th>\n",
       "      <th>Tag</th>\n",
       "    </tr>\n",
       "  </thead>\n",
       "  <tbody>\n",
       "    <tr>\n",
       "      <th>0</th>\n",
       "      <td>1794680</td>\n",
       "      <td>Overwhelmingly Positive</td>\n",
       "      <td>['Action Roguelike', 'Bullet Hell', 'Pixel Gra...</td>\n",
       "    </tr>\n",
       "    <tr>\n",
       "      <th>1</th>\n",
       "      <td>1332010</td>\n",
       "      <td>Overwhelmingly Positive</td>\n",
       "      <td>['Cats', 'Adventure', 'Cyberpunk', 'Atmospheri...</td>\n",
       "    </tr>\n",
       "    <tr>\n",
       "      <th>2</th>\n",
       "      <td>1583720</td>\n",
       "      <td>Overwhelmingly Positive</td>\n",
       "      <td>['Free to Play', 'Action', 'FPS', 'Mod', 'Firs...</td>\n",
       "    </tr>\n",
       "    <tr>\n",
       "      <th>3</th>\n",
       "      <td>1290000</td>\n",
       "      <td>Overwhelmingly Positive</td>\n",
       "      <td>['Casual', 'Relaxing', 'Simulation', 'First-Pe...</td>\n",
       "    </tr>\n",
       "    <tr>\n",
       "      <th>4</th>\n",
       "      <td>1593500</td>\n",
       "      <td>Overwhelmingly Positive</td>\n",
       "      <td>['Action', 'Singleplayer', 'Story Rich', 'Adve...</td>\n",
       "    </tr>\n",
       "  </tbody>\n",
       "</table>\n",
       "</div>"
      ],
      "text/plain": [
       "    App_id                   Review  \\\n",
       "0  1794680  Overwhelmingly Positive   \n",
       "1  1332010  Overwhelmingly Positive   \n",
       "2  1583720  Overwhelmingly Positive   \n",
       "3  1290000  Overwhelmingly Positive   \n",
       "4  1593500  Overwhelmingly Positive   \n",
       "\n",
       "                                                 Tag  \n",
       "0  ['Action Roguelike', 'Bullet Hell', 'Pixel Gra...  \n",
       "1  ['Cats', 'Adventure', 'Cyberpunk', 'Atmospheri...  \n",
       "2  ['Free to Play', 'Action', 'FPS', 'Mod', 'Firs...  \n",
       "3  ['Casual', 'Relaxing', 'Simulation', 'First-Pe...  \n",
       "4  ['Action', 'Singleplayer', 'Story Rich', 'Adve...  "
      ]
     },
     "execution_count": 10,
     "metadata": {},
     "output_type": "execute_result"
    }
   ],
   "source": [
    "df.columns=[\"App_id\",\"Review\",\"Tag\"]\n",
    "df.to_csv(\"2022_review.csv\",sep=';')\n",
    "pd.read_csv(\"2022_review.csv\",sep=';', index_col=0).head()"
   ]
  }
 ],
 "metadata": {
  "kernelspec": {
   "display_name": "Python 3",
   "language": "python",
   "name": "python3"
  },
  "language_info": {
   "codemirror_mode": {
    "name": "ipython",
    "version": 3
   },
   "file_extension": ".py",
   "mimetype": "text/x-python",
   "name": "python",
   "nbconvert_exporter": "python",
   "pygments_lexer": "ipython3",
   "version": "3.12.0"
  },
  "orig_nbformat": 4
 },
 "nbformat": 4,
 "nbformat_minor": 2
}
